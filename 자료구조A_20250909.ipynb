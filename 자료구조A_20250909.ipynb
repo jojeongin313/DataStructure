{
  "nbformat": 4,
  "nbformat_minor": 0,
  "metadata": {
    "colab": {
      "provenance": [],
      "authorship_tag": "ABX9TyMYFIGhoiT64+s5v98qO0cO",
      "include_colab_link": true
    },
    "kernelspec": {
      "name": "python3",
      "display_name": "Python 3"
    },
    "language_info": {
      "name": "python"
    }
  },
  "cells": [
    {
      "cell_type": "markdown",
      "metadata": {
        "id": "view-in-github",
        "colab_type": "text"
      },
      "source": [
        "<a href=\"https://colab.research.google.com/github/jojeongin313/DataStructure-2-1-/blob/main/%EC%9E%90%EB%A3%8C%EA%B5%AC%EC%A1%B0A_20250909.ipynb\" target=\"_parent\"><img src=\"https://colab.research.google.com/assets/colab-badge.svg\" alt=\"Open In Colab\"/></a>"
      ]
    },
    {
      "cell_type": "code",
      "execution_count": 13,
      "metadata": {
        "colab": {
          "base_uri": "https://localhost:8080/"
        },
        "id": "61rALZ2j46Wo",
        "outputId": "2c2dacb4-c8be-4717-9c0b-1aa52dc28fd9"
      },
      "outputs": [
        {
          "output_type": "stream",
          "name": "stdout",
          "text": [
            " 가방속의 물건  ['휴대폰', '지갑', '음료수']\n",
            "가방속의 물건  ['휴대폰', '음료수']\n",
            "가방속의 물건개수 2\n"
          ]
        },
        {
          "output_type": "execute_result",
          "data": {
            "text/plain": [
              "False"
            ]
          },
          "metadata": {},
          "execution_count": 13
        }
      ],
      "source": [
        "def contains(bag, e):\n",
        "  return e in bag\n",
        "\n",
        "def insert  (bag,e):\n",
        "  bag.append(e)\n",
        "\n",
        "def remove(bag,e):\n",
        "  bag.remove(e)\n",
        "\n",
        "def count(bag):\n",
        "  return len(bag)\n",
        "\n",
        "mybag =[]\n",
        "insert (mybag,\"휴대폰\")\n",
        "insert (mybag,\"지갑\")\n",
        "insert (mybag,\"음료수\")\n",
        "print(\" 가방속의 물건 \",mybag)\n",
        "\n",
        "remove(mybag, \"지갑\")\n",
        "print(\"가방속의 물건 \",mybag)\n",
        "\n",
        "print(\"가방속의 물건개수\",count(mybag))\n",
        "contains(mybag,\"지갑\")\n",
        "\n"
      ]
    },
    {
      "cell_type": "code",
      "source": [
        "import time\n",
        "start = time.time() # 시작시간 저장\n",
        "start\n",
        "def contains(bag, e):\n",
        "  return e in bag\n",
        "\n",
        "def insert  (bag,e):\n",
        "  bag.append(e)\n",
        "\n",
        "def remove(bag,e):\n",
        "  bag.remove(e)\n",
        "\n",
        "def count(bag):\n",
        "  return len(bag)\n",
        "\n",
        "mybag =[]\n",
        "insert (mybag,\"휴대폰\")\n",
        "insert (mybag,\"지갑\")\n",
        "insert (mybag,\"음료수\")\n",
        "print(\" 가방속의 물건 \",mybag)\n",
        "\n",
        "remove(mybag, \"지갑\")\n",
        "print(\"가방속의 물건 \",mybag)\n",
        "\n",
        "print(\"가방속의 물건개수\",count(mybag))\n",
        "contains(mybag,\"지갑\")\n",
        "\n",
        "end = time.time() # 종료시간 저장\n",
        "end\n",
        "\n",
        "print(\"실행시간\",end-start)"
      ],
      "metadata": {
        "colab": {
          "base_uri": "https://localhost:8080/"
        },
        "id": "xEmle2e76zVl",
        "outputId": "3591ec85-8585-4dc4-bfb6-a4cea1b64bae"
      },
      "execution_count": 12,
      "outputs": [
        {
          "output_type": "stream",
          "name": "stdout",
          "text": [
            " 가방속의 물건  ['휴대폰', '지갑', '음료수']\n",
            "가방속의 물건  ['휴대폰', '음료수']\n",
            "가방속의 물건개수 2\n",
            "실행시간 0.0005829334259033203\n"
          ]
        }
      ]
    },
    {
      "cell_type": "code",
      "source": [
        "import time\n",
        "import random\n",
        "def find_max(A):      # A[5,8,2,9], 최대값 찾기 함수\n",
        "  max = A[0]\n",
        "  for item in A:\n",
        "    if item>max:\n",
        "      max = item      # max = 8\n",
        "  return max\n",
        "\n",
        "\n",
        "start = time.time() # 시작시간 저장\n",
        "A=[random.randint(0,10000) for i in range(10000)]\n",
        "for i in range(10000):\n",
        "  max = find_max(A)\n",
        "max = find_max(A)\n",
        "end = time.time() # 종료시간 저장\n",
        "end\n",
        "print(\"실행시간\",end-start)\n"
      ],
      "metadata": {
        "colab": {
          "base_uri": "https://localhost:8080/"
        },
        "id": "bQvRgn8H9ilS",
        "outputId": "94867348-9dfc-4f5b-81b0-a4626bc7db7a"
      },
      "execution_count": 20,
      "outputs": [
        {
          "output_type": "stream",
          "name": "stdout",
          "text": [
            "실행시간 1.9151675701141357\n"
          ]
        }
      ]
    },
    {
      "cell_type": "code",
      "source": [],
      "metadata": {
        "id": "xPVVPp4r_Lzb"
      },
      "execution_count": null,
      "outputs": []
    }
  ]
}